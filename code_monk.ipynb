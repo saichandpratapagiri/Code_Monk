{
 "cells": [
  {
   "cell_type": "code",
   "execution_count": 1,
   "metadata": {},
   "outputs": [
    {
     "name": "stdout",
     "output_type": "stream",
     "text": [
      "4\n"
     ]
    }
   ],
   "source": [
    "\"\"\"\n",
    "Longest substring without repeating characters\n",
    "abcbcde\n",
    "output: 4 #bcde\n",
    "\"\"\"\n",
    "str = input()\n",
    "dict = {}\n",
    "start = 0\n",
    "end = 0\n",
    "max = 0\n",
    "for i in range(len(str)):\n",
    "    if str[i] in dict and dict[str[i]] > start:\n",
    "        start = dict[str[i]] + 1 # update start as next index to last occurence of cahr\n",
    "    dict[str[i]] = i # updated new index for char\n",
    "    end = i\n",
    "    len = end - start\n",
    "    if max < len :\n",
    "        max = len\n",
    "print(max)\n"
   ]
  },
  {
   "cell_type": "code",
   "execution_count": 15,
   "metadata": {},
   "outputs": [
    {
     "name": "stdout",
     "output_type": "stream",
     "text": [
      "[[7, 4, 1], [8, 5, 2], [9, 6, 3]]\n"
     ]
    }
   ],
   "source": [
    "\"\"\"\n",
    "Rotate matrix\n",
    "n x n matrix rotate by 90 degrees without using additional matrix\n",
    "n = 3\n",
    "1 2 3\n",
    "4 5 6\n",
    "7 8 9\n",
    "output:\n",
    "7 4 1\n",
    "8 5 2\n",
    "9 6 3\n",
    "\"\"\"\n",
    "n = int(input())\n",
    "matrix = []\n",
    "for _ in range(0, n):\n",
    "    matrix.append(list(map(int, input().split(\" \"))))\n",
    "for i in range((int)(n/2)):\n",
    "    for j in range(i, n-i-1):\n",
    "        temp = matrix[i][j]\n",
    "        matrix[i][j] = matrix[n-1-j][i]\n",
    "        matrix[n-1-j][i] = matrix[n-1-i][n-1-j]\n",
    "        matrix[n-1-i][n-1-j] = matrix[j][n-1-i]\n",
    "        matrix[j][n-1-i] = temp\n",
    "print(matrix)"
   ]
  },
  {
   "cell_type": "code",
   "execution_count": 11,
   "metadata": {},
   "outputs": [
    {
     "name": "stdout",
     "output_type": "stream",
     "text": [
      "3\n"
     ]
    }
   ],
   "source": [
    "\"\"\"\n",
    "Max Points on a line\n",
    "Find max no of points from given (xi,yi) that can form a line\n",
    "hint: slope of line\n",
    "5\n",
    "0 0\n",
    "1 1\n",
    "2 2\n",
    "7 5\n",
    "0 4\n",
    "output:\n",
    "3\n",
    "\"\"\"\n",
    "n = int(input())\n",
    "arr = []\n",
    "for _ in range(n):\n",
    "    x, y = list(map(int, input().split(\" \")))\n",
    "    arr.append([x, y])\n",
    "dict = {}\n",
    "max = 0\n",
    "for i in range(n):\n",
    "    for j in range(i+1, n):\n",
    "        if arr[i][0] - arr[j][0] == 0:\n",
    "            slope = 100000000 #infinity\n",
    "        else:\n",
    "            slope = (float)(arr[j][1] - arr[i][1])/(float)(arr[j][0] - arr[i][0])\n",
    "        if dict.__contains__(slope):\n",
    "            dict[slope] += 1\n",
    "        else:\n",
    "            dict[slope] = 1\n",
    "        max = max if max > dict[slope] else dict[slope]\n",
    "print(max)"
   ]
  },
  {
   "cell_type": "code",
   "execution_count": 8,
   "metadata": {},
   "outputs": [
    {
     "name": "stdout",
     "output_type": "stream",
     "text": [
      "3\n"
     ]
    }
   ],
   "source": [
    "\"\"\"\n",
    "Jump Game\n",
    "array of elements a value at any index means no of jumps can be made, return min number of jumps to rach end\n",
    "eg: 3 1 2 1 7\n",
    "indicator, index = 0, at 0 value = 3 then indicator = i + 3 that's how we have to check if it reaches end.\n",
    "5\n",
    "1 2 5 6 7\n",
    "output:\n",
    "3\n",
    "1 -> step 1\n",
    "2 -> step 2 and ignore\n",
    "5 -> step 3 can reach end\n",
    "\"\"\"\n",
    "n = int(input())\n",
    "arr = list(map(int, input().split(\" \")))\n",
    "def noOfJumps():\n",
    "    target = n-1 #target to reach an element\n",
    "    jumps = 0\n",
    "    while(target != 0):\n",
    "        for i in range(0, target):\n",
    "            if i + arr[i] >= target: #if an element at i can surpass or reach element\n",
    "                target = i #reassigning the target with i\n",
    "                break\n",
    "        jumps += 1\n",
    "    return jumps\n",
    "print(noOfJumps())"
   ]
  },
  {
   "cell_type": "code",
   "execution_count": 7,
   "metadata": {},
   "outputs": [
    {
     "name": "stdout",
     "output_type": "stream",
     "text": [
      "0\n"
     ]
    }
   ],
   "source": [
    "\"\"\"\n",
    "Valid Sudoku\n",
    "9 x 9 matrix futher 9 3 x 3 marices, -1 if no element is present.\n",
    "Same element shouldn't be in same row or column or 3 x 3 box\n",
    "1 -1 -1 -1 2 -1 4 -1 9\n",
    "3 -1 5 -1 -1 7 -1 -1 -1\n",
    "-1 4 -1 1 -1 -1 5 -1 7\n",
    "5 6 -1 8 -1 -1 -1 3 -1\n",
    "-1 2 -1 -1 9 -1 -1 -1 -1\n",
    "-1 -1 -1 -1 -1 -1 -1 2 -1\n",
    "8 -1 6 -1 -1 -1 -1 -1 1\n",
    "-1 -1 -1 9 -1 -1 3 -1 -1\n",
    "4 -1 -1 -1 2 -1 -1 1 -1\n",
    "output:\n",
    "1 if it is valid, 0 if it is not valid\n",
    "\"\"\"\n",
    "arr = []\n",
    "for _ in range(0, 9):\n",
    "    arr.append(list(map(int, input().split(\" \"))))\n",
    "def is_valid():\n",
    "    row = [[0 for i in range(9)] for j in range(9)]\n",
    "    col = [[0 for i in range(9)] for j in range(9)]\n",
    "    box = [[0 for i in range(9)] for j in range(9)]\n",
    "    for i in range(9):\n",
    "        for j in range(9):\n",
    "            if arr[i][j] != -1:\n",
    "                value = arr[i][j] - 1\n",
    "                boxno = 3*int(i/3) + int(j/3)\n",
    "                if row[i][value] == 1 or col[j][value] == 1 or box[boxno][value] == 1:\n",
    "                    return 0\n",
    "                row[i][value] = 1\n",
    "                col[j][value] = 1\n",
    "                box[boxno][value] = 1\n",
    "    return 1\n",
    "print(is_valid())"
   ]
  },
  {
   "cell_type": "code",
   "execution_count": 4,
   "metadata": {},
   "outputs": [
    {
     "name": "stdout",
     "output_type": "stream",
     "text": [
      "[0, 0, 1, 2, 2]\n"
     ]
    }
   ],
   "source": [
    "\"\"\"\n",
    "sort array without creating new array\n",
    "array will have only 0, 1, 2\n",
    "5\n",
    "2 0 1 0 2\n",
    "output:\n",
    "0 0 1 2 2\n",
    "\"\"\"\n",
    "n = int(input())\n",
    "arr = list(map(int, input().split(\" \")))\n",
    "def sortArr():\n",
    "    l_bound = 0\n",
    "    r_bound = n-1\n",
    "    i = 0\n",
    "    while(i <= r_bound):\n",
    "        if arr[i] == 2:\n",
    "            arr[i], arr[r_bound] = arr[r_bound], arr[i]\n",
    "            r_bound -= 1\n",
    "        elif arr[i] == 1:\n",
    "            i += 1\n",
    "        else:\n",
    "            arr[i], arr[l_bound] = arr[l_bound], arr[i]\n",
    "            i += 1\n",
    "sortArr()\n",
    "print(arr)"
   ]
  },
  {
   "cell_type": "code",
   "execution_count": null,
   "metadata": {},
   "outputs": [],
   "source": [
    "\"\"\"\n",
    "Kruskal's algorithm to find minimum spanning tree\n",
    "5 5\n",
    "0 1 1\n",
    "0 2 5\n",
    "1 3 3\n",
    "2 3 7\n",
    "3 4 4\n",
    "\"\"\"\n",
    "from collections import defaultdict\n",
    "n, e = map(int, input().split(\" \"))\n",
    "graph = []\n",
    "for _ in range(0, e):\n",
    "    u, v, weight = map(int, input().split(\" \"))\n",
    "    graph.append([u, v, weight])\n",
    "graph = sorted(graph, key = lambda list: list[2])\n",
    "min_cost = 0\n",
    "mst = defaultdict(list)\n",
    "visited = []\n",
    "parent = {}\n",
    "for i in range(0, n):\n",
    "    parent[i] = i\n",
    "def findParent(u):\n",
    "    if parent[u] == u:\n",
    "        return u\n",
    "    return findParent(parent[u])\n",
    "def formsCycle(u, v):\n",
    "    if findParent(u) == findParent(v):\n",
    "        return True\n",
    "    return False\n",
    "print(graph)\n",
    "for node in graph:\n",
    "    visited = []\n",
    "    if not formsCycle(node[0], node[1]) :\n",
    "        mst[node[0]].append(node[1])\n",
    "        parent[node[1]] = node[0]\n",
    "        min_cost += node[2]\n",
    "print(mst)\n",
    "print(min_cost)\n",
    "\n"
   ]
  },
  {
   "cell_type": "code",
   "execution_count": null,
   "metadata": {},
   "outputs": [],
   "source": [
    "\"\"\"\n",
    "Number of unreachable nodes from head node\n",
    "10 10 #nodes, edges\n",
    "8 1\n",
    "8 3\n",
    "7 4\n",
    "7 5\n",
    "2 6\n",
    "10 7\n",
    "2 8\n",
    "10 9\n",
    "2 10\n",
    "5 10\n",
    "2 #head\n",
    "\"\"\"\n",
    "from collections import defaultdict\n",
    "n, e = map(int, input().split(\" \"))\n",
    "graph = defaultdict(list)\n",
    "for _ in range(0, e):\n",
    "    u, v = map(int, input().split(\" \"))\n",
    "    graph[u].append(v)\n",
    "    graph[v].append(u)\n",
    "head = int(input())\n",
    "visited = []\n",
    "reach = 1\n",
    "def dfs(s):\n",
    "    global reach\n",
    "    visited.append(s)\n",
    "    for node in graph[s]:\n",
    "        if node not in visited:\n",
    "            reach += 1\n",
    "            dfs(node)\n",
    "dfs(head)\n",
    "print(n - reach)\n"
   ]
  },
  {
   "cell_type": "code",
   "execution_count": 40,
   "metadata": {},
   "outputs": [
    {
     "name": "stdout",
     "output_type": "stream",
     "text": [
      "3\n"
     ]
    }
   ],
   "source": [
    "\"\"\"\n",
    "Number of connected components in graph or islands i.e., different graphs in a graph, we use dfs to backtrack\n",
    "6\n",
    "4\n",
    "1 2\n",
    "2 3\n",
    "1 3\n",
    "4 5\n",
    "\"\"\"\n",
    "from collections import defaultdict\n",
    "n = int(input())\n",
    "e = int(input()) # Edges\n",
    "graph = defaultdict(list)\n",
    "for _ in range(0, e):\n",
    "    u, v = map(int, input().split(\" \"))\n",
    "    graph[u].append(v)\n",
    "    graph[v].append(u)\n",
    "visited = []\n",
    "def dfs(s):\n",
    "    visited.append(s)\n",
    "    for child in graph[s]:\n",
    "        if child not in visited:\n",
    "            dfs(child)\n",
    "connectedComponents = 0\n",
    "for i in range(0, n-1):\n",
    "    if i not in visited:\n",
    "        dfs(i)\n",
    "        connectedComponents += 1\n",
    "print(connectedComponents)"
   ]
  },
  {
   "cell_type": "code",
   "execution_count": null,
   "metadata": {},
   "outputs": [],
   "source": [
    "\"\"\"\n",
    "No of Nodes in a level in tree\n",
    "6\n",
    "1 2\n",
    "1 3\n",
    "2 4\n",
    "2 5\n",
    "3 6\n",
    "3\n",
    "\"\"\"\n",
    "from collections import deque, defaultdict\n",
    "queue = deque([1])\n",
    "graph = defaultdict(list)\n",
    "level = {1: 1}\n",
    "visited = []\n",
    "for _ in range(int(input()) - 1):\n",
    "    u, v = map(int, input().split())\n",
    "    graph[u].append(v)\n",
    "    graph[v].append(u)\n",
    "print(graph)\n",
    "while(queue):\n",
    "    curr = queue.popleft()\n",
    "    print(\"current node\", curr)\n",
    "    if curr not in visited:\n",
    "        visited.append(curr)\n",
    "        print(\"visited nodes\", visited)\n",
    "        for child in graph[curr]:\n",
    "            if child not in visited:\n",
    "                level.update({child: level[curr] + 1})\n",
    "                print(\"child: \", child,\" level: \", level)\n",
    "            queue.append(child)\n",
    "            print(\"queue\", queue)\n",
    "print(list(level.values()).count(int(input())))"
   ]
  },
  {
   "cell_type": "code",
   "execution_count": null,
   "metadata": {},
   "outputs": [],
   "source": [
    "\"\"\"\n",
    "# Graph Input and query if there is edge\n",
    "4 5\n",
    "0 1\n",
    "1 2\n",
    "2 3\n",
    "0 3\n",
    "0 2\n",
    "1\n",
    "0 2\n",
    "\"\"\"\n",
    "n, m = map(int, input().split())\n",
    "matrix = [[0 for i in range(n)] for j in range(n)]\n",
    "for _ in range(0, m):\n",
    "    a, b = map(int, input().split())\n",
    "    matrix[a][b] = 1\n",
    "    matrix[b][a] = 1\n",
    "q = int(input())\n",
    "for _ in range(0, q):\n",
    "    a, b = map(int, input().split())\n",
    "    print(\"YES\") if matrix[a][b] == 1 else print(\"NO\")"
   ]
  },
  {
   "cell_type": "code",
   "execution_count": null,
   "metadata": {},
   "outputs": [],
   "source": [
    "\"\"\"\n",
    "rotate array by k elements.\n",
    "1\n",
    "5 2\n",
    "1 2 3 4 5\n",
    "\"\"\"\n",
    "t = int(input())\n",
    "while t > 0 :\n",
    "    n, k = map(int, input().split())\n",
    "    a = list(map(int, input().split()))\n",
    "    index = n - (k % n)\n",
    "    a = a[index:] + a[:index]\n",
    "    for i in range(0, len(a)):\n",
    "        print(a[i], end = \" \")\n",
    "    print(\"\")        \n",
    "    t -= 1"
   ]
  }
 ],
 "metadata": {
  "interpreter": {
   "hash": "b0fa6594d8f4cbf19f97940f81e996739fb7646882a419484c72d19e05852a7e"
  },
  "kernelspec": {
   "display_name": "Python 3.9.9 64-bit",
   "language": "python",
   "name": "python3"
  },
  "language_info": {
   "codemirror_mode": {
    "name": "ipython",
    "version": 3
   },
   "file_extension": ".py",
   "mimetype": "text/x-python",
   "name": "python",
   "nbconvert_exporter": "python",
   "pygments_lexer": "ipython3",
   "version": "3.9.9"
  },
  "orig_nbformat": 4
 },
 "nbformat": 4,
 "nbformat_minor": 2
}
